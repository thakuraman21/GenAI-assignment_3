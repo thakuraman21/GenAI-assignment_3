{
  "nbformat": 4,
  "nbformat_minor": 0,
  "metadata": {
    "colab": {
      "provenance": []
    },
    "kernelspec": {
      "name": "python3",
      "display_name": "Python 3"
    },
    "language_info": {
      "name": "python"
    }
  },
  "cells": [
    {
      "cell_type": "code",
      "source": [
        "!pip install langchain chromadb sentence-transformers pypdf\n"
      ],
      "metadata": {
        "colab": {
          "base_uri": "https://localhost:8080/"
        },
        "id": "In5BNQ0KdLg3",
        "outputId": "09761f61-854d-4b5c-e4ab-0c01c305a10d"
      },
      "execution_count": 39,
      "outputs": [
        {
          "output_type": "stream",
          "name": "stdout",
          "text": [
            "Requirement already satisfied: langchain in /usr/local/lib/python3.11/dist-packages (0.3.27)\n",
            "Requirement already satisfied: chromadb in /usr/local/lib/python3.11/dist-packages (1.0.15)\n",
            "Requirement already satisfied: sentence-transformers in /usr/local/lib/python3.11/dist-packages (4.1.0)\n",
            "Requirement already satisfied: pypdf in /usr/local/lib/python3.11/dist-packages (5.9.0)\n",
            "Requirement already satisfied: langchain-core<1.0.0,>=0.3.72 in /usr/local/lib/python3.11/dist-packages (from langchain) (0.3.72)\n",
            "Requirement already satisfied: langchain-text-splitters<1.0.0,>=0.3.9 in /usr/local/lib/python3.11/dist-packages (from langchain) (0.3.9)\n",
            "Requirement already satisfied: langsmith>=0.1.17 in /usr/local/lib/python3.11/dist-packages (from langchain) (0.4.8)\n",
            "Requirement already satisfied: pydantic<3.0.0,>=2.7.4 in /usr/local/lib/python3.11/dist-packages (from langchain) (2.11.7)\n",
            "Requirement already satisfied: SQLAlchemy<3,>=1.4 in /usr/local/lib/python3.11/dist-packages (from langchain) (2.0.42)\n",
            "Requirement already satisfied: requests<3,>=2 in /usr/local/lib/python3.11/dist-packages (from langchain) (2.32.3)\n",
            "Requirement already satisfied: PyYAML>=5.3 in /usr/local/lib/python3.11/dist-packages (from langchain) (6.0.2)\n",
            "Requirement already satisfied: build>=1.0.3 in /usr/local/lib/python3.11/dist-packages (from chromadb) (1.2.2.post1)\n",
            "Requirement already satisfied: pybase64>=1.4.1 in /usr/local/lib/python3.11/dist-packages (from chromadb) (1.4.2)\n",
            "Requirement already satisfied: uvicorn>=0.18.3 in /usr/local/lib/python3.11/dist-packages (from uvicorn[standard]>=0.18.3->chromadb) (0.35.0)\n",
            "Requirement already satisfied: numpy>=1.22.5 in /usr/local/lib/python3.11/dist-packages (from chromadb) (2.0.2)\n",
            "Requirement already satisfied: posthog<6.0.0,>=2.4.0 in /usr/local/lib/python3.11/dist-packages (from chromadb) (5.4.0)\n",
            "Requirement already satisfied: typing-extensions>=4.5.0 in /usr/local/lib/python3.11/dist-packages (from chromadb) (4.14.1)\n",
            "Requirement already satisfied: onnxruntime>=1.14.1 in /usr/local/lib/python3.11/dist-packages (from chromadb) (1.22.1)\n",
            "Requirement already satisfied: opentelemetry-api>=1.2.0 in /usr/local/lib/python3.11/dist-packages (from chromadb) (1.36.0)\n",
            "Requirement already satisfied: opentelemetry-exporter-otlp-proto-grpc>=1.2.0 in /usr/local/lib/python3.11/dist-packages (from chromadb) (1.36.0)\n",
            "Requirement already satisfied: opentelemetry-sdk>=1.2.0 in /usr/local/lib/python3.11/dist-packages (from chromadb) (1.36.0)\n",
            "Requirement already satisfied: tokenizers>=0.13.2 in /usr/local/lib/python3.11/dist-packages (from chromadb) (0.21.4)\n",
            "Requirement already satisfied: pypika>=0.48.9 in /usr/local/lib/python3.11/dist-packages (from chromadb) (0.48.9)\n",
            "Requirement already satisfied: tqdm>=4.65.0 in /usr/local/lib/python3.11/dist-packages (from chromadb) (4.67.1)\n",
            "Requirement already satisfied: overrides>=7.3.1 in /usr/local/lib/python3.11/dist-packages (from chromadb) (7.7.0)\n",
            "Requirement already satisfied: importlib-resources in /usr/local/lib/python3.11/dist-packages (from chromadb) (6.5.2)\n",
            "Requirement already satisfied: grpcio>=1.58.0 in /usr/local/lib/python3.11/dist-packages (from chromadb) (1.74.0)\n",
            "Requirement already satisfied: bcrypt>=4.0.1 in /usr/local/lib/python3.11/dist-packages (from chromadb) (4.3.0)\n",
            "Requirement already satisfied: typer>=0.9.0 in /usr/local/lib/python3.11/dist-packages (from chromadb) (0.16.0)\n",
            "Requirement already satisfied: kubernetes>=28.1.0 in /usr/local/lib/python3.11/dist-packages (from chromadb) (33.1.0)\n",
            "Requirement already satisfied: tenacity>=8.2.3 in /usr/local/lib/python3.11/dist-packages (from chromadb) (8.5.0)\n",
            "Requirement already satisfied: mmh3>=4.0.1 in /usr/local/lib/python3.11/dist-packages (from chromadb) (5.2.0)\n",
            "Requirement already satisfied: orjson>=3.9.12 in /usr/local/lib/python3.11/dist-packages (from chromadb) (3.11.1)\n",
            "Requirement already satisfied: httpx>=0.27.0 in /usr/local/lib/python3.11/dist-packages (from chromadb) (0.28.1)\n",
            "Requirement already satisfied: rich>=10.11.0 in /usr/local/lib/python3.11/dist-packages (from chromadb) (13.9.4)\n",
            "Requirement already satisfied: jsonschema>=4.19.0 in /usr/local/lib/python3.11/dist-packages (from chromadb) (4.25.0)\n",
            "Requirement already satisfied: transformers<5.0.0,>=4.41.0 in /usr/local/lib/python3.11/dist-packages (from sentence-transformers) (4.54.1)\n",
            "Requirement already satisfied: torch>=1.11.0 in /usr/local/lib/python3.11/dist-packages (from sentence-transformers) (2.6.0+cu124)\n",
            "Requirement already satisfied: scikit-learn in /usr/local/lib/python3.11/dist-packages (from sentence-transformers) (1.6.1)\n",
            "Requirement already satisfied: scipy in /usr/local/lib/python3.11/dist-packages (from sentence-transformers) (1.16.1)\n",
            "Requirement already satisfied: huggingface-hub>=0.20.0 in /usr/local/lib/python3.11/dist-packages (from sentence-transformers) (0.34.3)\n",
            "Requirement already satisfied: Pillow in /usr/local/lib/python3.11/dist-packages (from sentence-transformers) (11.3.0)\n",
            "Requirement already satisfied: packaging>=19.1 in /usr/local/lib/python3.11/dist-packages (from build>=1.0.3->chromadb) (25.0)\n",
            "Requirement already satisfied: pyproject_hooks in /usr/local/lib/python3.11/dist-packages (from build>=1.0.3->chromadb) (1.2.0)\n",
            "Requirement already satisfied: anyio in /usr/local/lib/python3.11/dist-packages (from httpx>=0.27.0->chromadb) (4.9.0)\n",
            "Requirement already satisfied: certifi in /usr/local/lib/python3.11/dist-packages (from httpx>=0.27.0->chromadb) (2025.7.14)\n",
            "Requirement already satisfied: httpcore==1.* in /usr/local/lib/python3.11/dist-packages (from httpx>=0.27.0->chromadb) (1.0.9)\n",
            "Requirement already satisfied: idna in /usr/local/lib/python3.11/dist-packages (from httpx>=0.27.0->chromadb) (3.10)\n",
            "Requirement already satisfied: h11>=0.16 in /usr/local/lib/python3.11/dist-packages (from httpcore==1.*->httpx>=0.27.0->chromadb) (0.16.0)\n",
            "Requirement already satisfied: filelock in /usr/local/lib/python3.11/dist-packages (from huggingface-hub>=0.20.0->sentence-transformers) (3.18.0)\n",
            "Requirement already satisfied: fsspec>=2023.5.0 in /usr/local/lib/python3.11/dist-packages (from huggingface-hub>=0.20.0->sentence-transformers) (2025.3.0)\n",
            "Requirement already satisfied: hf-xet<2.0.0,>=1.1.3 in /usr/local/lib/python3.11/dist-packages (from huggingface-hub>=0.20.0->sentence-transformers) (1.1.5)\n",
            "Requirement already satisfied: attrs>=22.2.0 in /usr/local/lib/python3.11/dist-packages (from jsonschema>=4.19.0->chromadb) (25.3.0)\n",
            "Requirement already satisfied: jsonschema-specifications>=2023.03.6 in /usr/local/lib/python3.11/dist-packages (from jsonschema>=4.19.0->chromadb) (2025.4.1)\n",
            "Requirement already satisfied: referencing>=0.28.4 in /usr/local/lib/python3.11/dist-packages (from jsonschema>=4.19.0->chromadb) (0.36.2)\n",
            "Requirement already satisfied: rpds-py>=0.7.1 in /usr/local/lib/python3.11/dist-packages (from jsonschema>=4.19.0->chromadb) (0.26.0)\n",
            "Requirement already satisfied: six>=1.9.0 in /usr/local/lib/python3.11/dist-packages (from kubernetes>=28.1.0->chromadb) (1.17.0)\n",
            "Requirement already satisfied: python-dateutil>=2.5.3 in /usr/local/lib/python3.11/dist-packages (from kubernetes>=28.1.0->chromadb) (2.9.0.post0)\n",
            "Requirement already satisfied: google-auth>=1.0.1 in /usr/local/lib/python3.11/dist-packages (from kubernetes>=28.1.0->chromadb) (2.38.0)\n",
            "Requirement already satisfied: websocket-client!=0.40.0,!=0.41.*,!=0.42.*,>=0.32.0 in /usr/local/lib/python3.11/dist-packages (from kubernetes>=28.1.0->chromadb) (1.8.0)\n",
            "Requirement already satisfied: requests-oauthlib in /usr/local/lib/python3.11/dist-packages (from kubernetes>=28.1.0->chromadb) (2.0.0)\n",
            "Requirement already satisfied: oauthlib>=3.2.2 in /usr/local/lib/python3.11/dist-packages (from kubernetes>=28.1.0->chromadb) (3.3.1)\n",
            "Requirement already satisfied: urllib3>=1.24.2 in /usr/local/lib/python3.11/dist-packages (from kubernetes>=28.1.0->chromadb) (2.5.0)\n",
            "Requirement already satisfied: durationpy>=0.7 in /usr/local/lib/python3.11/dist-packages (from kubernetes>=28.1.0->chromadb) (0.10)\n",
            "Requirement already satisfied: jsonpatch<2.0,>=1.33 in /usr/local/lib/python3.11/dist-packages (from langchain-core<1.0.0,>=0.3.72->langchain) (1.33)\n",
            "Requirement already satisfied: requests-toolbelt<2.0.0,>=1.0.0 in /usr/local/lib/python3.11/dist-packages (from langsmith>=0.1.17->langchain) (1.0.0)\n",
            "Requirement already satisfied: zstandard<0.24.0,>=0.23.0 in /usr/local/lib/python3.11/dist-packages (from langsmith>=0.1.17->langchain) (0.23.0)\n",
            "Requirement already satisfied: coloredlogs in /usr/local/lib/python3.11/dist-packages (from onnxruntime>=1.14.1->chromadb) (15.0.1)\n",
            "Requirement already satisfied: flatbuffers in /usr/local/lib/python3.11/dist-packages (from onnxruntime>=1.14.1->chromadb) (25.2.10)\n",
            "Requirement already satisfied: protobuf in /usr/local/lib/python3.11/dist-packages (from onnxruntime>=1.14.1->chromadb) (5.29.5)\n",
            "Requirement already satisfied: sympy in /usr/local/lib/python3.11/dist-packages (from onnxruntime>=1.14.1->chromadb) (1.13.1)\n",
            "Requirement already satisfied: importlib-metadata<8.8.0,>=6.0 in /usr/local/lib/python3.11/dist-packages (from opentelemetry-api>=1.2.0->chromadb) (8.7.0)\n",
            "Requirement already satisfied: googleapis-common-protos~=1.57 in /usr/local/lib/python3.11/dist-packages (from opentelemetry-exporter-otlp-proto-grpc>=1.2.0->chromadb) (1.70.0)\n",
            "Requirement already satisfied: opentelemetry-exporter-otlp-proto-common==1.36.0 in /usr/local/lib/python3.11/dist-packages (from opentelemetry-exporter-otlp-proto-grpc>=1.2.0->chromadb) (1.36.0)\n",
            "Requirement already satisfied: opentelemetry-proto==1.36.0 in /usr/local/lib/python3.11/dist-packages (from opentelemetry-exporter-otlp-proto-grpc>=1.2.0->chromadb) (1.36.0)\n",
            "Requirement already satisfied: opentelemetry-semantic-conventions==0.57b0 in /usr/local/lib/python3.11/dist-packages (from opentelemetry-sdk>=1.2.0->chromadb) (0.57b0)\n",
            "Requirement already satisfied: backoff>=1.10.0 in /usr/local/lib/python3.11/dist-packages (from posthog<6.0.0,>=2.4.0->chromadb) (2.2.1)\n",
            "Requirement already satisfied: distro>=1.5.0 in /usr/local/lib/python3.11/dist-packages (from posthog<6.0.0,>=2.4.0->chromadb) (1.9.0)\n",
            "Requirement already satisfied: annotated-types>=0.6.0 in /usr/local/lib/python3.11/dist-packages (from pydantic<3.0.0,>=2.7.4->langchain) (0.7.0)\n",
            "Requirement already satisfied: pydantic-core==2.33.2 in /usr/local/lib/python3.11/dist-packages (from pydantic<3.0.0,>=2.7.4->langchain) (2.33.2)\n",
            "Requirement already satisfied: typing-inspection>=0.4.0 in /usr/local/lib/python3.11/dist-packages (from pydantic<3.0.0,>=2.7.4->langchain) (0.4.1)\n",
            "Requirement already satisfied: charset-normalizer<4,>=2 in /usr/local/lib/python3.11/dist-packages (from requests<3,>=2->langchain) (3.4.2)\n",
            "Requirement already satisfied: markdown-it-py>=2.2.0 in /usr/local/lib/python3.11/dist-packages (from rich>=10.11.0->chromadb) (3.0.0)\n",
            "Requirement already satisfied: pygments<3.0.0,>=2.13.0 in /usr/local/lib/python3.11/dist-packages (from rich>=10.11.0->chromadb) (2.19.2)\n",
            "Requirement already satisfied: greenlet>=1 in /usr/local/lib/python3.11/dist-packages (from SQLAlchemy<3,>=1.4->langchain) (3.2.3)\n",
            "Requirement already satisfied: networkx in /usr/local/lib/python3.11/dist-packages (from torch>=1.11.0->sentence-transformers) (3.5)\n",
            "Requirement already satisfied: jinja2 in /usr/local/lib/python3.11/dist-packages (from torch>=1.11.0->sentence-transformers) (3.1.6)\n",
            "Requirement already satisfied: nvidia-cuda-nvrtc-cu12==12.4.127 in /usr/local/lib/python3.11/dist-packages (from torch>=1.11.0->sentence-transformers) (12.4.127)\n",
            "Requirement already satisfied: nvidia-cuda-runtime-cu12==12.4.127 in /usr/local/lib/python3.11/dist-packages (from torch>=1.11.0->sentence-transformers) (12.4.127)\n",
            "Requirement already satisfied: nvidia-cuda-cupti-cu12==12.4.127 in /usr/local/lib/python3.11/dist-packages (from torch>=1.11.0->sentence-transformers) (12.4.127)\n",
            "Requirement already satisfied: nvidia-cudnn-cu12==9.1.0.70 in /usr/local/lib/python3.11/dist-packages (from torch>=1.11.0->sentence-transformers) (9.1.0.70)\n",
            "Requirement already satisfied: nvidia-cublas-cu12==12.4.5.8 in /usr/local/lib/python3.11/dist-packages (from torch>=1.11.0->sentence-transformers) (12.4.5.8)\n",
            "Requirement already satisfied: nvidia-cufft-cu12==11.2.1.3 in /usr/local/lib/python3.11/dist-packages (from torch>=1.11.0->sentence-transformers) (11.2.1.3)\n",
            "Requirement already satisfied: nvidia-curand-cu12==10.3.5.147 in /usr/local/lib/python3.11/dist-packages (from torch>=1.11.0->sentence-transformers) (10.3.5.147)\n",
            "Requirement already satisfied: nvidia-cusolver-cu12==11.6.1.9 in /usr/local/lib/python3.11/dist-packages (from torch>=1.11.0->sentence-transformers) (11.6.1.9)\n",
            "Requirement already satisfied: nvidia-cusparse-cu12==12.3.1.170 in /usr/local/lib/python3.11/dist-packages (from torch>=1.11.0->sentence-transformers) (12.3.1.170)\n",
            "Requirement already satisfied: nvidia-cusparselt-cu12==0.6.2 in /usr/local/lib/python3.11/dist-packages (from torch>=1.11.0->sentence-transformers) (0.6.2)\n",
            "Requirement already satisfied: nvidia-nccl-cu12==2.21.5 in /usr/local/lib/python3.11/dist-packages (from torch>=1.11.0->sentence-transformers) (2.21.5)\n",
            "Requirement already satisfied: nvidia-nvtx-cu12==12.4.127 in /usr/local/lib/python3.11/dist-packages (from torch>=1.11.0->sentence-transformers) (12.4.127)\n",
            "Requirement already satisfied: nvidia-nvjitlink-cu12==12.4.127 in /usr/local/lib/python3.11/dist-packages (from torch>=1.11.0->sentence-transformers) (12.4.127)\n",
            "Requirement already satisfied: triton==3.2.0 in /usr/local/lib/python3.11/dist-packages (from torch>=1.11.0->sentence-transformers) (3.2.0)\n",
            "Requirement already satisfied: mpmath<1.4,>=1.1.0 in /usr/local/lib/python3.11/dist-packages (from sympy->onnxruntime>=1.14.1->chromadb) (1.3.0)\n",
            "Requirement already satisfied: regex!=2019.12.17 in /usr/local/lib/python3.11/dist-packages (from transformers<5.0.0,>=4.41.0->sentence-transformers) (2024.11.6)\n",
            "Requirement already satisfied: safetensors>=0.4.3 in /usr/local/lib/python3.11/dist-packages (from transformers<5.0.0,>=4.41.0->sentence-transformers) (0.5.3)\n",
            "Requirement already satisfied: click>=8.0.0 in /usr/local/lib/python3.11/dist-packages (from typer>=0.9.0->chromadb) (8.2.1)\n",
            "Requirement already satisfied: shellingham>=1.3.0 in /usr/local/lib/python3.11/dist-packages (from typer>=0.9.0->chromadb) (1.5.4)\n",
            "Requirement already satisfied: httptools>=0.6.3 in /usr/local/lib/python3.11/dist-packages (from uvicorn[standard]>=0.18.3->chromadb) (0.6.4)\n",
            "Requirement already satisfied: python-dotenv>=0.13 in /usr/local/lib/python3.11/dist-packages (from uvicorn[standard]>=0.18.3->chromadb) (1.1.1)\n",
            "Requirement already satisfied: uvloop>=0.15.1 in /usr/local/lib/python3.11/dist-packages (from uvicorn[standard]>=0.18.3->chromadb) (0.21.0)\n",
            "Requirement already satisfied: watchfiles>=0.13 in /usr/local/lib/python3.11/dist-packages (from uvicorn[standard]>=0.18.3->chromadb) (1.1.0)\n",
            "Requirement already satisfied: websockets>=10.4 in /usr/local/lib/python3.11/dist-packages (from uvicorn[standard]>=0.18.3->chromadb) (15.0.1)\n",
            "Requirement already satisfied: joblib>=1.2.0 in /usr/local/lib/python3.11/dist-packages (from scikit-learn->sentence-transformers) (1.5.1)\n",
            "Requirement already satisfied: threadpoolctl>=3.1.0 in /usr/local/lib/python3.11/dist-packages (from scikit-learn->sentence-transformers) (3.6.0)\n",
            "Requirement already satisfied: cachetools<6.0,>=2.0.0 in /usr/local/lib/python3.11/dist-packages (from google-auth>=1.0.1->kubernetes>=28.1.0->chromadb) (5.5.2)\n",
            "Requirement already satisfied: pyasn1-modules>=0.2.1 in /usr/local/lib/python3.11/dist-packages (from google-auth>=1.0.1->kubernetes>=28.1.0->chromadb) (0.4.2)\n",
            "Requirement already satisfied: rsa<5,>=3.1.4 in /usr/local/lib/python3.11/dist-packages (from google-auth>=1.0.1->kubernetes>=28.1.0->chromadb) (4.9.1)\n",
            "Requirement already satisfied: zipp>=3.20 in /usr/local/lib/python3.11/dist-packages (from importlib-metadata<8.8.0,>=6.0->opentelemetry-api>=1.2.0->chromadb) (3.23.0)\n",
            "Requirement already satisfied: jsonpointer>=1.9 in /usr/local/lib/python3.11/dist-packages (from jsonpatch<2.0,>=1.33->langchain-core<1.0.0,>=0.3.72->langchain) (3.0.0)\n",
            "Requirement already satisfied: mdurl~=0.1 in /usr/local/lib/python3.11/dist-packages (from markdown-it-py>=2.2.0->rich>=10.11.0->chromadb) (0.1.2)\n",
            "Requirement already satisfied: sniffio>=1.1 in /usr/local/lib/python3.11/dist-packages (from anyio->httpx>=0.27.0->chromadb) (1.3.1)\n",
            "Requirement already satisfied: humanfriendly>=9.1 in /usr/local/lib/python3.11/dist-packages (from coloredlogs->onnxruntime>=1.14.1->chromadb) (10.0)\n",
            "Requirement already satisfied: MarkupSafe>=2.0 in /usr/local/lib/python3.11/dist-packages (from jinja2->torch>=1.11.0->sentence-transformers) (3.0.2)\n",
            "Requirement already satisfied: pyasn1<0.7.0,>=0.6.1 in /usr/local/lib/python3.11/dist-packages (from pyasn1-modules>=0.2.1->google-auth>=1.0.1->kubernetes>=28.1.0->chromadb) (0.6.1)\n"
          ]
        }
      ]
    },
    {
      "cell_type": "code",
      "source": [
        "from langchain.document_loaders import PyPDFLoader\n",
        "from google.colab import files\n",
        "\n",
        "uploaded = files.upload()\n",
        "pdf_path = list(uploaded.keys())[0]\n",
        "\n",
        "loader = PyPDFLoader(pdf_path)\n",
        "pages = loader.load()\n",
        "print(f\"Total pages loaded: {len(pages)}\")"
      ],
      "metadata": {
        "colab": {
          "base_uri": "https://localhost:8080/",
          "height": 90
        },
        "id": "2cripFmHdm5I",
        "outputId": "fcd33da5-e0a9-4351-bde1-400b7782c347"
      },
      "execution_count": 40,
      "outputs": [
        {
          "output_type": "display_data",
          "data": {
            "text/plain": [
              "<IPython.core.display.HTML object>"
            ],
            "text/html": [
              "\n",
              "     <input type=\"file\" id=\"files-562701b2-693f-466b-b2c2-2268488d28e5\" name=\"files[]\" multiple disabled\n",
              "        style=\"border:none\" />\n",
              "     <output id=\"result-562701b2-693f-466b-b2c2-2268488d28e5\">\n",
              "      Upload widget is only available when the cell has been executed in the\n",
              "      current browser session. Please rerun this cell to enable.\n",
              "      </output>\n",
              "      <script>// Copyright 2017 Google LLC\n",
              "//\n",
              "// Licensed under the Apache License, Version 2.0 (the \"License\");\n",
              "// you may not use this file except in compliance with the License.\n",
              "// You may obtain a copy of the License at\n",
              "//\n",
              "//      http://www.apache.org/licenses/LICENSE-2.0\n",
              "//\n",
              "// Unless required by applicable law or agreed to in writing, software\n",
              "// distributed under the License is distributed on an \"AS IS\" BASIS,\n",
              "// WITHOUT WARRANTIES OR CONDITIONS OF ANY KIND, either express or implied.\n",
              "// See the License for the specific language governing permissions and\n",
              "// limitations under the License.\n",
              "\n",
              "/**\n",
              " * @fileoverview Helpers for google.colab Python module.\n",
              " */\n",
              "(function(scope) {\n",
              "function span(text, styleAttributes = {}) {\n",
              "  const element = document.createElement('span');\n",
              "  element.textContent = text;\n",
              "  for (const key of Object.keys(styleAttributes)) {\n",
              "    element.style[key] = styleAttributes[key];\n",
              "  }\n",
              "  return element;\n",
              "}\n",
              "\n",
              "// Max number of bytes which will be uploaded at a time.\n",
              "const MAX_PAYLOAD_SIZE = 100 * 1024;\n",
              "\n",
              "function _uploadFiles(inputId, outputId) {\n",
              "  const steps = uploadFilesStep(inputId, outputId);\n",
              "  const outputElement = document.getElementById(outputId);\n",
              "  // Cache steps on the outputElement to make it available for the next call\n",
              "  // to uploadFilesContinue from Python.\n",
              "  outputElement.steps = steps;\n",
              "\n",
              "  return _uploadFilesContinue(outputId);\n",
              "}\n",
              "\n",
              "// This is roughly an async generator (not supported in the browser yet),\n",
              "// where there are multiple asynchronous steps and the Python side is going\n",
              "// to poll for completion of each step.\n",
              "// This uses a Promise to block the python side on completion of each step,\n",
              "// then passes the result of the previous step as the input to the next step.\n",
              "function _uploadFilesContinue(outputId) {\n",
              "  const outputElement = document.getElementById(outputId);\n",
              "  const steps = outputElement.steps;\n",
              "\n",
              "  const next = steps.next(outputElement.lastPromiseValue);\n",
              "  return Promise.resolve(next.value.promise).then((value) => {\n",
              "    // Cache the last promise value to make it available to the next\n",
              "    // step of the generator.\n",
              "    outputElement.lastPromiseValue = value;\n",
              "    return next.value.response;\n",
              "  });\n",
              "}\n",
              "\n",
              "/**\n",
              " * Generator function which is called between each async step of the upload\n",
              " * process.\n",
              " * @param {string} inputId Element ID of the input file picker element.\n",
              " * @param {string} outputId Element ID of the output display.\n",
              " * @return {!Iterable<!Object>} Iterable of next steps.\n",
              " */\n",
              "function* uploadFilesStep(inputId, outputId) {\n",
              "  const inputElement = document.getElementById(inputId);\n",
              "  inputElement.disabled = false;\n",
              "\n",
              "  const outputElement = document.getElementById(outputId);\n",
              "  outputElement.innerHTML = '';\n",
              "\n",
              "  const pickedPromise = new Promise((resolve) => {\n",
              "    inputElement.addEventListener('change', (e) => {\n",
              "      resolve(e.target.files);\n",
              "    });\n",
              "  });\n",
              "\n",
              "  const cancel = document.createElement('button');\n",
              "  inputElement.parentElement.appendChild(cancel);\n",
              "  cancel.textContent = 'Cancel upload';\n",
              "  const cancelPromise = new Promise((resolve) => {\n",
              "    cancel.onclick = () => {\n",
              "      resolve(null);\n",
              "    };\n",
              "  });\n",
              "\n",
              "  // Wait for the user to pick the files.\n",
              "  const files = yield {\n",
              "    promise: Promise.race([pickedPromise, cancelPromise]),\n",
              "    response: {\n",
              "      action: 'starting',\n",
              "    }\n",
              "  };\n",
              "\n",
              "  cancel.remove();\n",
              "\n",
              "  // Disable the input element since further picks are not allowed.\n",
              "  inputElement.disabled = true;\n",
              "\n",
              "  if (!files) {\n",
              "    return {\n",
              "      response: {\n",
              "        action: 'complete',\n",
              "      }\n",
              "    };\n",
              "  }\n",
              "\n",
              "  for (const file of files) {\n",
              "    const li = document.createElement('li');\n",
              "    li.append(span(file.name, {fontWeight: 'bold'}));\n",
              "    li.append(span(\n",
              "        `(${file.type || 'n/a'}) - ${file.size} bytes, ` +\n",
              "        `last modified: ${\n",
              "            file.lastModifiedDate ? file.lastModifiedDate.toLocaleDateString() :\n",
              "                                    'n/a'} - `));\n",
              "    const percent = span('0% done');\n",
              "    li.appendChild(percent);\n",
              "\n",
              "    outputElement.appendChild(li);\n",
              "\n",
              "    const fileDataPromise = new Promise((resolve) => {\n",
              "      const reader = new FileReader();\n",
              "      reader.onload = (e) => {\n",
              "        resolve(e.target.result);\n",
              "      };\n",
              "      reader.readAsArrayBuffer(file);\n",
              "    });\n",
              "    // Wait for the data to be ready.\n",
              "    let fileData = yield {\n",
              "      promise: fileDataPromise,\n",
              "      response: {\n",
              "        action: 'continue',\n",
              "      }\n",
              "    };\n",
              "\n",
              "    // Use a chunked sending to avoid message size limits. See b/62115660.\n",
              "    let position = 0;\n",
              "    do {\n",
              "      const length = Math.min(fileData.byteLength - position, MAX_PAYLOAD_SIZE);\n",
              "      const chunk = new Uint8Array(fileData, position, length);\n",
              "      position += length;\n",
              "\n",
              "      const base64 = btoa(String.fromCharCode.apply(null, chunk));\n",
              "      yield {\n",
              "        response: {\n",
              "          action: 'append',\n",
              "          file: file.name,\n",
              "          data: base64,\n",
              "        },\n",
              "      };\n",
              "\n",
              "      let percentDone = fileData.byteLength === 0 ?\n",
              "          100 :\n",
              "          Math.round((position / fileData.byteLength) * 100);\n",
              "      percent.textContent = `${percentDone}% done`;\n",
              "\n",
              "    } while (position < fileData.byteLength);\n",
              "  }\n",
              "\n",
              "  // All done.\n",
              "  yield {\n",
              "    response: {\n",
              "      action: 'complete',\n",
              "    }\n",
              "  };\n",
              "}\n",
              "\n",
              "scope.google = scope.google || {};\n",
              "scope.google.colab = scope.google.colab || {};\n",
              "scope.google.colab._files = {\n",
              "  _uploadFiles,\n",
              "  _uploadFilesContinue,\n",
              "};\n",
              "})(self);\n",
              "</script> "
            ]
          },
          "metadata": {}
        },
        {
          "output_type": "stream",
          "name": "stdout",
          "text": [
            "Saving BCSC1807 Syllabus.pdf to BCSC1807 Syllabus (2).pdf\n",
            "Total pages loaded: 1\n"
          ]
        }
      ]
    },
    {
      "cell_type": "code",
      "source": [
        "from langchain.text_splitter import RecursiveCharacterTextSplitter\n",
        "\n",
        "splitter = RecursiveCharacterTextSplitter(chunk_size=500, chunk_overlap=100)\n",
        "docs = splitter.split_documents(pages)\n",
        "\n",
        "print(f\"Total chunks created: {len(docs)}\")"
      ],
      "metadata": {
        "colab": {
          "base_uri": "https://localhost:8080/"
        },
        "id": "Njt752EQdykz",
        "outputId": "cf03f51a-6b97-4fe8-a466-5d98e7258805"
      },
      "execution_count": 41,
      "outputs": [
        {
          "output_type": "stream",
          "name": "stdout",
          "text": [
            "Total chunks created: 6\n"
          ]
        }
      ]
    },
    {
      "cell_type": "code",
      "source": [
        "from langchain.embeddings import HuggingFaceEmbeddings\n",
        "\n",
        "embedding_model = HuggingFaceEmbeddings(model_name='all-MiniLM-L6-v2')"
      ],
      "metadata": {
        "id": "7hf26rwJd651"
      },
      "execution_count": 42,
      "outputs": []
    },
    {
      "cell_type": "code",
      "source": [
        "from langchain.vectorstores import Chroma\n",
        "\n",
        "vectorstore = Chroma.from_documents(documents=docs, embedding=embedding_model, persist_directory=\"./chroma_db\")\n",
        "vectorstore.persist()\n",
        "print(\"Embedding stored in Chroma.\")"
      ],
      "metadata": {
        "colab": {
          "base_uri": "https://localhost:8080/"
        },
        "id": "sz8NwvwIeBfj",
        "outputId": "a5a73e44-feda-4390-d0b2-5d41d383082f"
      },
      "execution_count": 43,
      "outputs": [
        {
          "output_type": "stream",
          "name": "stderr",
          "text": [
            "/usr/local/lib/python3.11/dist-packages/torch/nn/modules/module.py:1750: FutureWarning: `encoder_attention_mask` is deprecated and will be removed in version 4.55.0 for `BertSdpaSelfAttention.forward`.\n",
            "  return forward_call(*args, **kwargs)\n"
          ]
        },
        {
          "output_type": "stream",
          "name": "stdout",
          "text": [
            "Embedding stored in Chroma.\n"
          ]
        },
        {
          "output_type": "stream",
          "name": "stderr",
          "text": [
            "/tmp/ipython-input-2329283953.py:4: LangChainDeprecationWarning: Since Chroma 0.4.x the manual persistence method is no longer supported as docs are automatically persisted.\n",
            "  vectorstore.persist()\n"
          ]
        }
      ]
    },
    {
      "cell_type": "code",
      "source": [
        "retriever = vectorstore.as_retriever(search_kwargs={\"k\": 3})"
      ],
      "metadata": {
        "id": "S8RcBaRxeJwy"
      },
      "execution_count": 44,
      "outputs": []
    },
    {
      "cell_type": "code",
      "source": [
        "from langchain.chains import RetrievalQA\n",
        "from langchain.llms.base import LLM\n",
        "from typing import Optional, List\n",
        "\n",
        "class DummyLLM(LLM):\n",
        "    def _call(self, prompt: str, stop: Optional[List[str]] = None) -> str:\n",
        "        return \"This is a simulated LLM response to the prompt: \" + prompt\n",
        "\n",
        "    @property\n",
        "    def _llm_type(self) -> str:\n",
        "        return \"dummy-llm\"\n",
        "\n",
        "qa_chain = RetrievalQA.from_chain_type(llm=DummyLLM(), retriever=retriever)"
      ],
      "metadata": {
        "id": "M6wOgQU6eN5P"
      },
      "execution_count": 47,
      "outputs": []
    },
    {
      "cell_type": "code",
      "source": [
        "query = \"What is the document about?\"\n",
        "response = qa_chain.run(query)\n",
        "print(\"Answer:\", response)"
      ],
      "metadata": {
        "colab": {
          "base_uri": "https://localhost:8080/"
        },
        "id": "Ojv7kJYjeTB_",
        "outputId": "51400fa7-ffd4-4ac2-a9df-c4e67c1c31ef"
      },
      "execution_count": 46,
      "outputs": [
        {
          "output_type": "stream",
          "name": "stdout",
          "text": [
            "Answer: This is a simulated LLM response to the prompt: Use the following pieces of context to answer the question at the end. If you don't know the answer, just say that you don't know, don't try to make up an answer.\n",
            "\n",
            "DEPARTMENT OF COMPUTER ENGINEERING & APPLICATIONS, Institute of Engineering & Technology \n",
            "Course Curriculum (w.e.f. Session 2023-24) B. Tech. Computer Science & Engineering\n",
            "\n",
            "BCSC1807: DESIGN & ANALYSIS OF ALGORITHMS LAB Objective: The objective of this course is that students will understand and implement simple data structures, able demonstrate different sorting and searching techniques. and will be familiar with graphs and their applications.   Credits:01     L-T-P-J:0-0-2-0 Module No. Content  Teaching Hours        I& II          Implementation of sorting algorithms: o Insertion Sort o Bubble Sort o Selection Sort  Divide and conquer approach: o Quick Sort o\n",
            "\n",
            "structures for a given problem • CO3: Implement the algorithms based on Greedy approach and Dynamic Programming.    Mapping of Course Outcomes (COs) with Program Outcomes (POs) and Program Specific Outcomes (PSOs):  COs POs/PSOs CO1 PO1,PO2,PO4/PSO1,PSO2,PSO4 CO2 PO1,PO3,PO4/PSO1,PSO2,PSO3 CO3 PO2,PO3,PO5/PSO1,PSO2,PSO4\n",
            "\n",
            "Question: What is the document about?\n",
            "Helpful Answer:\n"
          ]
        },
        {
          "output_type": "stream",
          "name": "stderr",
          "text": [
            "/tmp/ipython-input-3251645052.py:2: LangChainDeprecationWarning: The method `Chain.run` was deprecated in langchain 0.1.0 and will be removed in 1.0. Use :meth:`~invoke` instead.\n",
            "  response = qa_chain.run(query)\n",
            "/usr/local/lib/python3.11/dist-packages/torch/nn/modules/module.py:1750: FutureWarning: `encoder_attention_mask` is deprecated and will be removed in version 4.55.0 for `BertSdpaSelfAttention.forward`.\n",
            "  return forward_call(*args, **kwargs)\n"
          ]
        }
      ]
    },
    {
      "cell_type": "code",
      "source": [
        "questions = [\n",
        "    \"What is the main topic of the document?\",\n",
        "    \"Which methods or models are used in the study?\",\n",
        "    \"What are the key results or findings?\",\n",
        "    \"Is there any future work or limitation mentioned?\",\n",
        "    \"What is the purpose or objective of this document?\"\n",
        "]"
      ],
      "metadata": {
        "id": "Vqgqj9FteZSI"
      },
      "execution_count": 48,
      "outputs": []
    },
    {
      "cell_type": "code",
      "source": [
        "def ask_with_retriever(qa_chain, retriever, query):\n",
        "    relevant_docs = retriever.get_relevant_documents(query)\n",
        "    response = qa_chain.run(query)\n",
        "\n",
        "    print(f\"\\n Question: {query}\")\n",
        "    print(\"\\n Retrieved Chunks:\")\n",
        "    for i, doc in enumerate(relevant_docs):\n",
        "        print(f\"\\nChunk {i+1}:\\n{doc.page_content[:300]}...\\n\")\n",
        "\n",
        "    print(\" RAG Answer:\\n\", response)\n",
        "    return response"
      ],
      "metadata": {
        "id": "X4_a2XU9fD5p"
      },
      "execution_count": 49,
      "outputs": []
    },
    {
      "cell_type": "code",
      "source": [
        "def ask_without_retriever(llm, query):\n",
        "    # Simulate raw LLM answer using full doc context (concat first few chunks)\n",
        "    context = \"\\n\".join([doc.page_content for doc in docs[:5]])\n",
        "    prompt = f\"Context:\\n{context}\\n\\nQuestion: {query}\\nAnswer:\"\n",
        "    answer = llm(prompt)\n",
        "\n",
        "    print(\" Raw LLM Answer:\\n\", answer)\n",
        "    return answer"
      ],
      "metadata": {
        "id": "R7JCg57NfMlb"
      },
      "execution_count": 52,
      "outputs": []
    },
    {
      "cell_type": "code",
      "source": [
        "llm=DummyLLM()"
      ],
      "metadata": {
        "id": "MSeMJiftfaCK"
      },
      "execution_count": 51,
      "outputs": []
    },
    {
      "cell_type": "code",
      "source": [
        "for q in questions:\n",
        "    ask_with_retriever(qa_chain, retriever, q)\n",
        "    ask_without_retriever(llm, q)\n",
        "    print(\"-\" * 100)"
      ],
      "metadata": {
        "colab": {
          "base_uri": "https://localhost:8080/"
        },
        "id": "44N3yaeOfec0",
        "outputId": "349ed72f-9764-4cde-9a6e-3631293a1155"
      },
      "execution_count": 53,
      "outputs": [
        {
          "output_type": "stream",
          "name": "stderr",
          "text": [
            "/tmp/ipython-input-2280290601.py:2: LangChainDeprecationWarning: The method `BaseRetriever.get_relevant_documents` was deprecated in langchain-core 0.1.46 and will be removed in 1.0. Use :meth:`~invoke` instead.\n",
            "  relevant_docs = retriever.get_relevant_documents(query)\n",
            "/usr/local/lib/python3.11/dist-packages/torch/nn/modules/module.py:1750: FutureWarning: `encoder_attention_mask` is deprecated and will be removed in version 4.55.0 for `BertSdpaSelfAttention.forward`.\n",
            "  return forward_call(*args, **kwargs)\n",
            "/usr/local/lib/python3.11/dist-packages/torch/nn/modules/module.py:1750: FutureWarning: `encoder_attention_mask` is deprecated and will be removed in version 4.55.0 for `BertSdpaSelfAttention.forward`.\n",
            "  return forward_call(*args, **kwargs)\n",
            "/usr/local/lib/python3.11/dist-packages/torch/nn/modules/module.py:1750: FutureWarning: `encoder_attention_mask` is deprecated and will be removed in version 4.55.0 for `BertSdpaSelfAttention.forward`.\n",
            "  return forward_call(*args, **kwargs)\n",
            "/usr/local/lib/python3.11/dist-packages/torch/nn/modules/module.py:1750: FutureWarning: `encoder_attention_mask` is deprecated and will be removed in version 4.55.0 for `BertSdpaSelfAttention.forward`.\n",
            "  return forward_call(*args, **kwargs)\n",
            "/usr/local/lib/python3.11/dist-packages/torch/nn/modules/module.py:1750: FutureWarning: `encoder_attention_mask` is deprecated and will be removed in version 4.55.0 for `BertSdpaSelfAttention.forward`.\n",
            "  return forward_call(*args, **kwargs)\n",
            "/usr/local/lib/python3.11/dist-packages/torch/nn/modules/module.py:1750: FutureWarning: `encoder_attention_mask` is deprecated and will be removed in version 4.55.0 for `BertSdpaSelfAttention.forward`.\n",
            "  return forward_call(*args, **kwargs)\n",
            "/usr/local/lib/python3.11/dist-packages/torch/nn/modules/module.py:1750: FutureWarning: `encoder_attention_mask` is deprecated and will be removed in version 4.55.0 for `BertSdpaSelfAttention.forward`.\n",
            "  return forward_call(*args, **kwargs)\n",
            "/usr/local/lib/python3.11/dist-packages/torch/nn/modules/module.py:1750: FutureWarning: `encoder_attention_mask` is deprecated and will be removed in version 4.55.0 for `BertSdpaSelfAttention.forward`.\n",
            "  return forward_call(*args, **kwargs)\n",
            "/usr/local/lib/python3.11/dist-packages/torch/nn/modules/module.py:1750: FutureWarning: `encoder_attention_mask` is deprecated and will be removed in version 4.55.0 for `BertSdpaSelfAttention.forward`.\n",
            "  return forward_call(*args, **kwargs)\n"
          ]
        },
        {
          "output_type": "stream",
          "name": "stdout",
          "text": [
            "\n",
            " Question: What is the main topic of the document?\n",
            "\n",
            " Retrieved Chunks:\n",
            "\n",
            "Chunk 1:\n",
            "DEPARTMENT OF COMPUTER ENGINEERING & APPLICATIONS, Institute of Engineering & Technology \n",
            "Course Curriculum (w.e.f. Session 2023-24) B. Tech. Computer Science & Engineering...\n",
            "\n",
            "\n",
            "Chunk 2:\n",
            "BCSC1807: DESIGN & ANALYSIS OF ALGORITHMS LAB Objective: The objective of this course is that students will understand and implement simple data structures, able demonstrate different sorting and searching techniques. and will be familiar with graphs and their applications.   Credits:01     L-T-P-J:...\n",
            "\n",
            "\n",
            "Chunk 3:\n",
            "structures for a given problem • CO3: Implement the algorithms based on Greedy approach and Dynamic Programming.    Mapping of Course Outcomes (COs) with Program Outcomes (POs) and Program Specific Outcomes (PSOs):  COs POs/PSOs CO1 PO1,PO2,PO4/PSO1,PSO2,PSO4 CO2 PO1,PO3,PO4/PSO1,PSO2,PSO3 CO3 PO2,P...\n",
            "\n",
            " RAG Answer:\n",
            " This is a simulated LLM response to the prompt: Use the following pieces of context to answer the question at the end. If you don't know the answer, just say that you don't know, don't try to make up an answer.\n",
            "\n",
            "DEPARTMENT OF COMPUTER ENGINEERING & APPLICATIONS, Institute of Engineering & Technology \n",
            "Course Curriculum (w.e.f. Session 2023-24) B. Tech. Computer Science & Engineering\n",
            "\n",
            "BCSC1807: DESIGN & ANALYSIS OF ALGORITHMS LAB Objective: The objective of this course is that students will understand and implement simple data structures, able demonstrate different sorting and searching techniques. and will be familiar with graphs and their applications.   Credits:01     L-T-P-J:0-0-2-0 Module No. Content  Teaching Hours        I& II          Implementation of sorting algorithms: o Insertion Sort o Bubble Sort o Selection Sort  Divide and conquer approach: o Quick Sort o\n",
            "\n",
            "structures for a given problem • CO3: Implement the algorithms based on Greedy approach and Dynamic Programming.    Mapping of Course Outcomes (COs) with Program Outcomes (POs) and Program Specific Outcomes (PSOs):  COs POs/PSOs CO1 PO1,PO2,PO4/PSO1,PSO2,PSO4 CO2 PO1,PO3,PO4/PSO1,PSO2,PSO3 CO3 PO2,PO3,PO5/PSO1,PSO2,PSO4\n",
            "\n",
            "Question: What is the main topic of the document?\n",
            "Helpful Answer:\n",
            " Raw LLM Answer:\n",
            " This is a simulated LLM response to the prompt: Context:\n",
            "DEPARTMENT OF COMPUTER ENGINEERING & APPLICATIONS, Institute of Engineering & Technology \n",
            "Course Curriculum (w.e.f. Session 2023-24) B. Tech. Computer Science & Engineering\n",
            "BCSC1807: DESIGN & ANALYSIS OF ALGORITHMS LAB Objective: The objective of this course is that students will understand and implement simple data structures, able demonstrate different sorting and searching techniques. and will be familiar with graphs and their applications.   Credits:01     L-T-P-J:0-0-2-0 Module No. Content  Teaching Hours        I& II          Implementation of sorting algorithms: o Insertion Sort o Bubble Sort o Selection Sort  Divide and conquer approach: o Quick Sort o\n",
            "o Insertion Sort o Bubble Sort o Selection Sort  Divide and conquer approach: o Quick Sort o Merge Sort  Implementation of sorting algorithms: o Heap Sort  o Counting Sort   Implementation of Searching Techniques: o Linear Search o Binary Search  Implementation of Matrix Multiplication   Implementation of Convex Hull   Implementation of Breadth First Search   Implementation of Depth First Search  Implementation of Greedy approaches: o Optimal Reliability Allocation.  o Knapsack. Minimum\n",
            " Implementation of Greedy approaches: o Optimal Reliability Allocation.  o Knapsack. Minimum  o Minimum Spanning trees:  Prim’s and Kruskal’s    algorithms.  o Single source shortest paths –   Dijkstra’s and Bellman Ford algorithms.    Implementation of Dynamic Programming: o Longest Increasing Subsequence.  o Finding best path in maze.  o Matrix Chain Multiplication o 0/1 Knapsack Problem o Resource Allocation Problem 32 Note: All Code must be done in Java as well as Python Focus: This\n",
            "o Resource Allocation Problem 32 Note: All Code must be done in Java as well as Python Focus: This Course focuses on Employability under CO1, CO2, CO3. Outcome: After completion of course, student will be able to: • CO1: Implementation the sorting algorithms like Selection Sort, Bubble Sort, Insertion Sort, Merge Sort, Quick Sort  and Heap Sort. • CO2: Demonstrate and use the appropriate data structures for a given problem • CO3: Implement the algorithms based on Greedy approach and Dynamic\n",
            "\n",
            "Question: What is the main topic of the document?\n",
            "Answer:\n",
            "----------------------------------------------------------------------------------------------------\n",
            "\n",
            " Question: Which methods or models are used in the study?\n",
            "\n",
            " Retrieved Chunks:\n",
            "\n",
            "Chunk 1:\n",
            "structures for a given problem • CO3: Implement the algorithms based on Greedy approach and Dynamic Programming.    Mapping of Course Outcomes (COs) with Program Outcomes (POs) and Program Specific Outcomes (PSOs):  COs POs/PSOs CO1 PO1,PO2,PO4/PSO1,PSO2,PSO4 CO2 PO1,PO3,PO4/PSO1,PSO2,PSO3 CO3 PO2,P...\n",
            "\n",
            "\n",
            "Chunk 2:\n",
            "BCSC1807: DESIGN & ANALYSIS OF ALGORITHMS LAB Objective: The objective of this course is that students will understand and implement simple data structures, able demonstrate different sorting and searching techniques. and will be familiar with graphs and their applications.   Credits:01     L-T-P-J:...\n",
            "\n",
            "\n",
            "Chunk 3:\n",
            "DEPARTMENT OF COMPUTER ENGINEERING & APPLICATIONS, Institute of Engineering & Technology \n",
            "Course Curriculum (w.e.f. Session 2023-24) B. Tech. Computer Science & Engineering...\n",
            "\n",
            " RAG Answer:\n",
            " This is a simulated LLM response to the prompt: Use the following pieces of context to answer the question at the end. If you don't know the answer, just say that you don't know, don't try to make up an answer.\n",
            "\n",
            "structures for a given problem • CO3: Implement the algorithms based on Greedy approach and Dynamic Programming.    Mapping of Course Outcomes (COs) with Program Outcomes (POs) and Program Specific Outcomes (PSOs):  COs POs/PSOs CO1 PO1,PO2,PO4/PSO1,PSO2,PSO4 CO2 PO1,PO3,PO4/PSO1,PSO2,PSO3 CO3 PO2,PO3,PO5/PSO1,PSO2,PSO4\n",
            "\n",
            "BCSC1807: DESIGN & ANALYSIS OF ALGORITHMS LAB Objective: The objective of this course is that students will understand and implement simple data structures, able demonstrate different sorting and searching techniques. and will be familiar with graphs and their applications.   Credits:01     L-T-P-J:0-0-2-0 Module No. Content  Teaching Hours        I& II          Implementation of sorting algorithms: o Insertion Sort o Bubble Sort o Selection Sort  Divide and conquer approach: o Quick Sort o\n",
            "\n",
            "DEPARTMENT OF COMPUTER ENGINEERING & APPLICATIONS, Institute of Engineering & Technology \n",
            "Course Curriculum (w.e.f. Session 2023-24) B. Tech. Computer Science & Engineering\n",
            "\n",
            "Question: Which methods or models are used in the study?\n",
            "Helpful Answer:\n",
            " Raw LLM Answer:\n",
            " This is a simulated LLM response to the prompt: Context:\n",
            "DEPARTMENT OF COMPUTER ENGINEERING & APPLICATIONS, Institute of Engineering & Technology \n",
            "Course Curriculum (w.e.f. Session 2023-24) B. Tech. Computer Science & Engineering\n",
            "BCSC1807: DESIGN & ANALYSIS OF ALGORITHMS LAB Objective: The objective of this course is that students will understand and implement simple data structures, able demonstrate different sorting and searching techniques. and will be familiar with graphs and their applications.   Credits:01     L-T-P-J:0-0-2-0 Module No. Content  Teaching Hours        I& II          Implementation of sorting algorithms: o Insertion Sort o Bubble Sort o Selection Sort  Divide and conquer approach: o Quick Sort o\n",
            "o Insertion Sort o Bubble Sort o Selection Sort  Divide and conquer approach: o Quick Sort o Merge Sort  Implementation of sorting algorithms: o Heap Sort  o Counting Sort   Implementation of Searching Techniques: o Linear Search o Binary Search  Implementation of Matrix Multiplication   Implementation of Convex Hull   Implementation of Breadth First Search   Implementation of Depth First Search  Implementation of Greedy approaches: o Optimal Reliability Allocation.  o Knapsack. Minimum\n",
            " Implementation of Greedy approaches: o Optimal Reliability Allocation.  o Knapsack. Minimum  o Minimum Spanning trees:  Prim’s and Kruskal’s    algorithms.  o Single source shortest paths –   Dijkstra’s and Bellman Ford algorithms.    Implementation of Dynamic Programming: o Longest Increasing Subsequence.  o Finding best path in maze.  o Matrix Chain Multiplication o 0/1 Knapsack Problem o Resource Allocation Problem 32 Note: All Code must be done in Java as well as Python Focus: This\n",
            "o Resource Allocation Problem 32 Note: All Code must be done in Java as well as Python Focus: This Course focuses on Employability under CO1, CO2, CO3. Outcome: After completion of course, student will be able to: • CO1: Implementation the sorting algorithms like Selection Sort, Bubble Sort, Insertion Sort, Merge Sort, Quick Sort  and Heap Sort. • CO2: Demonstrate and use the appropriate data structures for a given problem • CO3: Implement the algorithms based on Greedy approach and Dynamic\n",
            "\n",
            "Question: Which methods or models are used in the study?\n",
            "Answer:\n",
            "----------------------------------------------------------------------------------------------------\n",
            "\n",
            " Question: What are the key results or findings?\n",
            "\n",
            " Retrieved Chunks:\n",
            "\n",
            "Chunk 1:\n",
            "BCSC1807: DESIGN & ANALYSIS OF ALGORITHMS LAB Objective: The objective of this course is that students will understand and implement simple data structures, able demonstrate different sorting and searching techniques. and will be familiar with graphs and their applications.   Credits:01     L-T-P-J:...\n",
            "\n",
            "\n",
            "Chunk 2:\n",
            "structures for a given problem • CO3: Implement the algorithms based on Greedy approach and Dynamic Programming.    Mapping of Course Outcomes (COs) with Program Outcomes (POs) and Program Specific Outcomes (PSOs):  COs POs/PSOs CO1 PO1,PO2,PO4/PSO1,PSO2,PSO4 CO2 PO1,PO3,PO4/PSO1,PSO2,PSO3 CO3 PO2,P...\n",
            "\n",
            "\n",
            "Chunk 3:\n",
            "o Insertion Sort o Bubble Sort o Selection Sort  Divide and conquer approach: o Quick Sort o Merge Sort  Implementation of sorting algorithms: o Heap Sort  o Counting Sort   Implementation of Searching Techniques: o Linear Search o Binary Search  Implementation of Matrix Multiplication   Implem...\n",
            "\n",
            " RAG Answer:\n",
            " This is a simulated LLM response to the prompt: Use the following pieces of context to answer the question at the end. If you don't know the answer, just say that you don't know, don't try to make up an answer.\n",
            "\n",
            "BCSC1807: DESIGN & ANALYSIS OF ALGORITHMS LAB Objective: The objective of this course is that students will understand and implement simple data structures, able demonstrate different sorting and searching techniques. and will be familiar with graphs and their applications.   Credits:01     L-T-P-J:0-0-2-0 Module No. Content  Teaching Hours        I& II          Implementation of sorting algorithms: o Insertion Sort o Bubble Sort o Selection Sort  Divide and conquer approach: o Quick Sort o\n",
            "\n",
            "structures for a given problem • CO3: Implement the algorithms based on Greedy approach and Dynamic Programming.    Mapping of Course Outcomes (COs) with Program Outcomes (POs) and Program Specific Outcomes (PSOs):  COs POs/PSOs CO1 PO1,PO2,PO4/PSO1,PSO2,PSO4 CO2 PO1,PO3,PO4/PSO1,PSO2,PSO3 CO3 PO2,PO3,PO5/PSO1,PSO2,PSO4\n",
            "\n",
            "o Insertion Sort o Bubble Sort o Selection Sort  Divide and conquer approach: o Quick Sort o Merge Sort  Implementation of sorting algorithms: o Heap Sort  o Counting Sort   Implementation of Searching Techniques: o Linear Search o Binary Search  Implementation of Matrix Multiplication   Implementation of Convex Hull   Implementation of Breadth First Search   Implementation of Depth First Search  Implementation of Greedy approaches: o Optimal Reliability Allocation.  o Knapsack. Minimum\n",
            "\n",
            "Question: What are the key results or findings?\n",
            "Helpful Answer:\n",
            " Raw LLM Answer:\n",
            " This is a simulated LLM response to the prompt: Context:\n",
            "DEPARTMENT OF COMPUTER ENGINEERING & APPLICATIONS, Institute of Engineering & Technology \n",
            "Course Curriculum (w.e.f. Session 2023-24) B. Tech. Computer Science & Engineering\n",
            "BCSC1807: DESIGN & ANALYSIS OF ALGORITHMS LAB Objective: The objective of this course is that students will understand and implement simple data structures, able demonstrate different sorting and searching techniques. and will be familiar with graphs and their applications.   Credits:01     L-T-P-J:0-0-2-0 Module No. Content  Teaching Hours        I& II          Implementation of sorting algorithms: o Insertion Sort o Bubble Sort o Selection Sort  Divide and conquer approach: o Quick Sort o\n",
            "o Insertion Sort o Bubble Sort o Selection Sort  Divide and conquer approach: o Quick Sort o Merge Sort  Implementation of sorting algorithms: o Heap Sort  o Counting Sort   Implementation of Searching Techniques: o Linear Search o Binary Search  Implementation of Matrix Multiplication   Implementation of Convex Hull   Implementation of Breadth First Search   Implementation of Depth First Search  Implementation of Greedy approaches: o Optimal Reliability Allocation.  o Knapsack. Minimum\n",
            " Implementation of Greedy approaches: o Optimal Reliability Allocation.  o Knapsack. Minimum  o Minimum Spanning trees:  Prim’s and Kruskal’s    algorithms.  o Single source shortest paths –   Dijkstra’s and Bellman Ford algorithms.    Implementation of Dynamic Programming: o Longest Increasing Subsequence.  o Finding best path in maze.  o Matrix Chain Multiplication o 0/1 Knapsack Problem o Resource Allocation Problem 32 Note: All Code must be done in Java as well as Python Focus: This\n",
            "o Resource Allocation Problem 32 Note: All Code must be done in Java as well as Python Focus: This Course focuses on Employability under CO1, CO2, CO3. Outcome: After completion of course, student will be able to: • CO1: Implementation the sorting algorithms like Selection Sort, Bubble Sort, Insertion Sort, Merge Sort, Quick Sort  and Heap Sort. • CO2: Demonstrate and use the appropriate data structures for a given problem • CO3: Implement the algorithms based on Greedy approach and Dynamic\n",
            "\n",
            "Question: What are the key results or findings?\n",
            "Answer:\n",
            "----------------------------------------------------------------------------------------------------\n",
            "\n",
            " Question: Is there any future work or limitation mentioned?\n",
            "\n",
            " Retrieved Chunks:\n",
            "\n",
            "Chunk 1:\n",
            " Implementation of Greedy approaches: o Optimal Reliability Allocation.  o Knapsack. Minimum  o Minimum Spanning trees:  Prim’s and Kruskal’s    algorithms.  o Single source shortest paths –   Dijkstra’s and Bellman Ford algorithms.    Implementation of Dynamic Programming: o Longest Increasing ...\n",
            "\n",
            "\n",
            "Chunk 2:\n",
            "DEPARTMENT OF COMPUTER ENGINEERING & APPLICATIONS, Institute of Engineering & Technology \n",
            "Course Curriculum (w.e.f. Session 2023-24) B. Tech. Computer Science & Engineering...\n",
            "\n",
            "\n",
            "Chunk 3:\n",
            "structures for a given problem • CO3: Implement the algorithms based on Greedy approach and Dynamic Programming.    Mapping of Course Outcomes (COs) with Program Outcomes (POs) and Program Specific Outcomes (PSOs):  COs POs/PSOs CO1 PO1,PO2,PO4/PSO1,PSO2,PSO4 CO2 PO1,PO3,PO4/PSO1,PSO2,PSO3 CO3 PO2,P...\n",
            "\n",
            " RAG Answer:\n",
            " This is a simulated LLM response to the prompt: Use the following pieces of context to answer the question at the end. If you don't know the answer, just say that you don't know, don't try to make up an answer.\n",
            "\n",
            " Implementation of Greedy approaches: o Optimal Reliability Allocation.  o Knapsack. Minimum  o Minimum Spanning trees:  Prim’s and Kruskal’s    algorithms.  o Single source shortest paths –   Dijkstra’s and Bellman Ford algorithms.    Implementation of Dynamic Programming: o Longest Increasing Subsequence.  o Finding best path in maze.  o Matrix Chain Multiplication o 0/1 Knapsack Problem o Resource Allocation Problem 32 Note: All Code must be done in Java as well as Python Focus: This\n",
            "\n",
            "DEPARTMENT OF COMPUTER ENGINEERING & APPLICATIONS, Institute of Engineering & Technology \n",
            "Course Curriculum (w.e.f. Session 2023-24) B. Tech. Computer Science & Engineering\n",
            "\n",
            "structures for a given problem • CO3: Implement the algorithms based on Greedy approach and Dynamic Programming.    Mapping of Course Outcomes (COs) with Program Outcomes (POs) and Program Specific Outcomes (PSOs):  COs POs/PSOs CO1 PO1,PO2,PO4/PSO1,PSO2,PSO4 CO2 PO1,PO3,PO4/PSO1,PSO2,PSO3 CO3 PO2,PO3,PO5/PSO1,PSO2,PSO4\n",
            "\n",
            "Question: Is there any future work or limitation mentioned?\n",
            "Helpful Answer:\n",
            " Raw LLM Answer:\n",
            " This is a simulated LLM response to the prompt: Context:\n",
            "DEPARTMENT OF COMPUTER ENGINEERING & APPLICATIONS, Institute of Engineering & Technology \n",
            "Course Curriculum (w.e.f. Session 2023-24) B. Tech. Computer Science & Engineering\n",
            "BCSC1807: DESIGN & ANALYSIS OF ALGORITHMS LAB Objective: The objective of this course is that students will understand and implement simple data structures, able demonstrate different sorting and searching techniques. and will be familiar with graphs and their applications.   Credits:01     L-T-P-J:0-0-2-0 Module No. Content  Teaching Hours        I& II          Implementation of sorting algorithms: o Insertion Sort o Bubble Sort o Selection Sort  Divide and conquer approach: o Quick Sort o\n",
            "o Insertion Sort o Bubble Sort o Selection Sort  Divide and conquer approach: o Quick Sort o Merge Sort  Implementation of sorting algorithms: o Heap Sort  o Counting Sort   Implementation of Searching Techniques: o Linear Search o Binary Search  Implementation of Matrix Multiplication   Implementation of Convex Hull   Implementation of Breadth First Search   Implementation of Depth First Search  Implementation of Greedy approaches: o Optimal Reliability Allocation.  o Knapsack. Minimum\n",
            " Implementation of Greedy approaches: o Optimal Reliability Allocation.  o Knapsack. Minimum  o Minimum Spanning trees:  Prim’s and Kruskal’s    algorithms.  o Single source shortest paths –   Dijkstra’s and Bellman Ford algorithms.    Implementation of Dynamic Programming: o Longest Increasing Subsequence.  o Finding best path in maze.  o Matrix Chain Multiplication o 0/1 Knapsack Problem o Resource Allocation Problem 32 Note: All Code must be done in Java as well as Python Focus: This\n",
            "o Resource Allocation Problem 32 Note: All Code must be done in Java as well as Python Focus: This Course focuses on Employability under CO1, CO2, CO3. Outcome: After completion of course, student will be able to: • CO1: Implementation the sorting algorithms like Selection Sort, Bubble Sort, Insertion Sort, Merge Sort, Quick Sort  and Heap Sort. • CO2: Demonstrate and use the appropriate data structures for a given problem • CO3: Implement the algorithms based on Greedy approach and Dynamic\n",
            "\n",
            "Question: Is there any future work or limitation mentioned?\n",
            "Answer:\n",
            "----------------------------------------------------------------------------------------------------\n",
            "\n",
            " Question: What is the purpose or objective of this document?\n",
            "\n",
            " Retrieved Chunks:\n",
            "\n",
            "Chunk 1:\n",
            "DEPARTMENT OF COMPUTER ENGINEERING & APPLICATIONS, Institute of Engineering & Technology \n",
            "Course Curriculum (w.e.f. Session 2023-24) B. Tech. Computer Science & Engineering...\n",
            "\n",
            "\n",
            "Chunk 2:\n",
            "BCSC1807: DESIGN & ANALYSIS OF ALGORITHMS LAB Objective: The objective of this course is that students will understand and implement simple data structures, able demonstrate different sorting and searching techniques. and will be familiar with graphs and their applications.   Credits:01     L-T-P-J:...\n",
            "\n",
            "\n",
            "Chunk 3:\n",
            "structures for a given problem • CO3: Implement the algorithms based on Greedy approach and Dynamic Programming.    Mapping of Course Outcomes (COs) with Program Outcomes (POs) and Program Specific Outcomes (PSOs):  COs POs/PSOs CO1 PO1,PO2,PO4/PSO1,PSO2,PSO4 CO2 PO1,PO3,PO4/PSO1,PSO2,PSO3 CO3 PO2,P...\n",
            "\n",
            " RAG Answer:\n",
            " This is a simulated LLM response to the prompt: Use the following pieces of context to answer the question at the end. If you don't know the answer, just say that you don't know, don't try to make up an answer.\n",
            "\n",
            "DEPARTMENT OF COMPUTER ENGINEERING & APPLICATIONS, Institute of Engineering & Technology \n",
            "Course Curriculum (w.e.f. Session 2023-24) B. Tech. Computer Science & Engineering\n",
            "\n",
            "BCSC1807: DESIGN & ANALYSIS OF ALGORITHMS LAB Objective: The objective of this course is that students will understand and implement simple data structures, able demonstrate different sorting and searching techniques. and will be familiar with graphs and their applications.   Credits:01     L-T-P-J:0-0-2-0 Module No. Content  Teaching Hours        I& II          Implementation of sorting algorithms: o Insertion Sort o Bubble Sort o Selection Sort  Divide and conquer approach: o Quick Sort o\n",
            "\n",
            "structures for a given problem • CO3: Implement the algorithms based on Greedy approach and Dynamic Programming.    Mapping of Course Outcomes (COs) with Program Outcomes (POs) and Program Specific Outcomes (PSOs):  COs POs/PSOs CO1 PO1,PO2,PO4/PSO1,PSO2,PSO4 CO2 PO1,PO3,PO4/PSO1,PSO2,PSO3 CO3 PO2,PO3,PO5/PSO1,PSO2,PSO4\n",
            "\n",
            "Question: What is the purpose or objective of this document?\n",
            "Helpful Answer:\n",
            " Raw LLM Answer:\n",
            " This is a simulated LLM response to the prompt: Context:\n",
            "DEPARTMENT OF COMPUTER ENGINEERING & APPLICATIONS, Institute of Engineering & Technology \n",
            "Course Curriculum (w.e.f. Session 2023-24) B. Tech. Computer Science & Engineering\n",
            "BCSC1807: DESIGN & ANALYSIS OF ALGORITHMS LAB Objective: The objective of this course is that students will understand and implement simple data structures, able demonstrate different sorting and searching techniques. and will be familiar with graphs and their applications.   Credits:01     L-T-P-J:0-0-2-0 Module No. Content  Teaching Hours        I& II          Implementation of sorting algorithms: o Insertion Sort o Bubble Sort o Selection Sort  Divide and conquer approach: o Quick Sort o\n",
            "o Insertion Sort o Bubble Sort o Selection Sort  Divide and conquer approach: o Quick Sort o Merge Sort  Implementation of sorting algorithms: o Heap Sort  o Counting Sort   Implementation of Searching Techniques: o Linear Search o Binary Search  Implementation of Matrix Multiplication   Implementation of Convex Hull   Implementation of Breadth First Search   Implementation of Depth First Search  Implementation of Greedy approaches: o Optimal Reliability Allocation.  o Knapsack. Minimum\n",
            " Implementation of Greedy approaches: o Optimal Reliability Allocation.  o Knapsack. Minimum  o Minimum Spanning trees:  Prim’s and Kruskal’s    algorithms.  o Single source shortest paths –   Dijkstra’s and Bellman Ford algorithms.    Implementation of Dynamic Programming: o Longest Increasing Subsequence.  o Finding best path in maze.  o Matrix Chain Multiplication o 0/1 Knapsack Problem o Resource Allocation Problem 32 Note: All Code must be done in Java as well as Python Focus: This\n",
            "o Resource Allocation Problem 32 Note: All Code must be done in Java as well as Python Focus: This Course focuses on Employability under CO1, CO2, CO3. Outcome: After completion of course, student will be able to: • CO1: Implementation the sorting algorithms like Selection Sort, Bubble Sort, Insertion Sort, Merge Sort, Quick Sort  and Heap Sort. • CO2: Demonstrate and use the appropriate data structures for a given problem • CO3: Implement the algorithms based on Greedy approach and Dynamic\n",
            "\n",
            "Question: What is the purpose or objective of this document?\n",
            "Answer:\n",
            "----------------------------------------------------------------------------------------------------\n"
          ]
        },
        {
          "output_type": "stream",
          "name": "stderr",
          "text": [
            "/usr/local/lib/python3.11/dist-packages/torch/nn/modules/module.py:1750: FutureWarning: `encoder_attention_mask` is deprecated and will be removed in version 4.55.0 for `BertSdpaSelfAttention.forward`.\n",
            "  return forward_call(*args, **kwargs)\n"
          ]
        }
      ]
    },
    {
      "cell_type": "code",
      "source": [
        "from langchain.prompts import PromptTemplate\n",
        "from langchain.chains import RetrievalQA\n",
        "prompt_template = \"\"\"\n",
        "You are a helpful assistant. Use the following document excerpts to answer the question.\n",
        "Always format the answer in bullet points and cite sources using [source X] format where X is the index of the document.\n",
        "\n",
        "Context:\n",
        "{context}\n",
        "\n",
        "Question:\n",
        "{question}\n",
        "\n",
        "Answer in bullet points:\n",
        "-\n",
        "\n",
        "[Disclaimer: This is an AI-generated response based on provided context and may not be entirely accurate.]\n",
        "\"\"\"\n",
        "\n",
        "custom_prompt = PromptTemplate(\n",
        "    input_variables=[\"context\", \"question\"],\n",
        "    template=prompt_template,\n",
        ")"
      ],
      "metadata": {
        "id": "tg9BQJSgfm9B"
      },
      "execution_count": 55,
      "outputs": []
    },
    {
      "cell_type": "code",
      "source": [
        "from langchain.chains.question_answering import load_qa_chain\n",
        "\n",
        "qa_chain_custom = RetrievalQA.from_chain_type(\n",
        "    llm=llm,\n",
        "    retriever=retriever,\n",
        "    chain_type=\"stuff\",\n",
        "    chain_type_kwargs={\"prompt\": custom_prompt}\n",
        ")"
      ],
      "metadata": {
        "id": "gifxMlMFgPNn"
      },
      "execution_count": 56,
      "outputs": []
    },
    {
      "cell_type": "code",
      "source": [
        "response = qa_chain_custom.run(\"What are the main findings of the document?\")\n",
        "print(response)"
      ],
      "metadata": {
        "colab": {
          "base_uri": "https://localhost:8080/"
        },
        "id": "ilfkTqRSgZYc",
        "outputId": "507340fc-2be6-4ff4-cf28-69ee02b27be8"
      },
      "execution_count": 57,
      "outputs": [
        {
          "output_type": "stream",
          "name": "stdout",
          "text": [
            "This is a simulated LLM response to the prompt: \n",
            "You are a helpful assistant. Use the following document excerpts to answer the question.\n",
            "Always format the answer in bullet points and cite sources using [source X] format where X is the index of the document.\n",
            "\n",
            "Context:\n",
            "BCSC1807: DESIGN & ANALYSIS OF ALGORITHMS LAB Objective: The objective of this course is that students will understand and implement simple data structures, able demonstrate different sorting and searching techniques. and will be familiar with graphs and their applications.   Credits:01     L-T-P-J:0-0-2-0 Module No. Content  Teaching Hours        I& II          Implementation of sorting algorithms: o Insertion Sort o Bubble Sort o Selection Sort  Divide and conquer approach: o Quick Sort o\n",
            "\n",
            "DEPARTMENT OF COMPUTER ENGINEERING & APPLICATIONS, Institute of Engineering & Technology \n",
            "Course Curriculum (w.e.f. Session 2023-24) B. Tech. Computer Science & Engineering\n",
            "\n",
            "structures for a given problem • CO3: Implement the algorithms based on Greedy approach and Dynamic Programming.    Mapping of Course Outcomes (COs) with Program Outcomes (POs) and Program Specific Outcomes (PSOs):  COs POs/PSOs CO1 PO1,PO2,PO4/PSO1,PSO2,PSO4 CO2 PO1,PO3,PO4/PSO1,PSO2,PSO3 CO3 PO2,PO3,PO5/PSO1,PSO2,PSO4\n",
            "\n",
            "Question:\n",
            "What are the main findings of the document?\n",
            "\n",
            "Answer in bullet points:\n",
            "- \n",
            "\n",
            "[Disclaimer: This is an AI-generated response based on provided context and may not be entirely accurate.]\n",
            "\n"
          ]
        },
        {
          "output_type": "stream",
          "name": "stderr",
          "text": [
            "/usr/local/lib/python3.11/dist-packages/torch/nn/modules/module.py:1750: FutureWarning: `encoder_attention_mask` is deprecated and will be removed in version 4.55.0 for `BertSdpaSelfAttention.forward`.\n",
            "  return forward_call(*args, **kwargs)\n"
          ]
        }
      ]
    },
    {
      "cell_type": "code",
      "source": [],
      "metadata": {
        "id": "APz2Nc8igfse"
      },
      "execution_count": null,
      "outputs": []
    }
  ]
}